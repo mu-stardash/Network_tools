{
 "cells": [
  {
   "cell_type": "code",
   "execution_count": 7,
   "metadata": {},
   "outputs": [
    {
     "name": "stdout",
     "output_type": "stream",
     "text": [
      "Requirement already satisfied: torch in c:\\users\\mikko\\anaconda3\\lib\\site-packages (1.12.1)\n",
      "Requirement already satisfied: typing-extensions in c:\\users\\mikko\\anaconda3\\lib\\site-packages (from torch) (4.1.1)\n",
      "Note: you may need to restart the kernel to use updated packages.\n"
     ]
    }
   ],
   "source": [
    "%pip install torch"
   ]
  },
  {
   "cell_type": "code",
   "execution_count": 8,
   "metadata": {},
   "outputs": [],
   "source": [
    "import torch\n",
    "import numpy as np\n",
    "import matplotlib.pyplot as plt"
   ]
  },
  {
   "cell_type": "code",
   "execution_count": 9,
   "metadata": {},
   "outputs": [
    {
     "name": "stdout",
     "output_type": "stream",
     "text": [
      "[[0.5        0.33333333]\n",
      " [0.2        0.16666667]]\n",
      "[[-4.         -1.33333333]\n",
      " [ 2.          3.33333333]]\n"
     ]
    }
   ],
   "source": [
    "import numpy as np\n",
    "X = np.array([[1, 2],\n",
    "                        [4, 5]])\n",
    "x_diff = (1 / (X+1))\n",
    "print(x_diff)\n",
    "answer = X - (10 * x_diff)\n",
    "print(answer)"
   ]
  },
  {
   "cell_type": "code",
   "execution_count": 10,
   "metadata": {},
   "outputs": [
    {
     "name": "stdout",
     "output_type": "stream",
     "text": [
      "cpu\n",
      "tensor([[ 20.,  40.,  60.,  80.],\n",
      "        [100., 120., 140., 160.],\n",
      "        [180., 200., 220., 240.]]) <- gradient\n",
      "<MulBackward0 object at 0x000002A1914228B0>\n",
      "<SumBackward0 object at 0x000002A191D1EDC0>\n",
      "<PowBackward0 object at 0x000002A1914228B0>\n",
      "<AccumulateGrad object at 0x000002A1914376A0>\n"
     ]
    },
    {
     "data": {
      "text/plain": [
       "tensor([[0., 0., 0., 0.],\n",
       "        [0., 0., 0., 0.],\n",
       "        [0., 0., 0., 0.]])"
      ]
     },
     "execution_count": 10,
     "metadata": {},
     "output_type": "execute_result"
    }
   ],
   "source": [
    "x = torch.tensor(\n",
    "    [[1.,  2.,  3.,  4.],\n",
    "     [5.,  6.,  7.,  8.],\n",
    "     [9., 10., 11., 12.]], requires_grad=True)\n",
    "\n",
    "#######\n",
    "device = torch.device('cuda:0' \n",
    "                      if torch.cuda.is_available() \n",
    "                      else 'cpu')\n",
    "print(device)\n",
    "x = x.to(device)\n",
    "#######\n",
    "\n",
    "function = 10 * (x ** 2).sum()\n",
    "\n",
    "function.backward()\n",
    "\n",
    "print(x.grad, '<- gradient')\n",
    "\n",
    "print(function.grad_fn)\n",
    "print(function.grad_fn.next_functions[0][0])\n",
    "print(function.grad_fn.next_functions[0][0].next_functions[0][0])\n",
    "print(function.grad_fn.next_functions[0][0].next_functions[0][0].next_functions[0][0])\n",
    "\n",
    "x.data -= 0.001 * x.grad\n",
    "x.grad.zero_()"
   ]
  },
  {
   "cell_type": "code",
   "execution_count": 11,
   "metadata": {},
   "outputs": [
    {
     "name": "stdout",
     "output_type": "stream",
     "text": [
      "cpu\n"
     ]
    }
   ],
   "source": [
    "w =  torch.tensor([[5.,10.],\n",
    "                    [1.,2.]], requires_grad=True)# put our code here\n",
    "\n",
    "device = torch.device('cuda:0' \n",
    "                      if torch.cuda.is_available() \n",
    "                      else 'cpu')\n",
    "print(device)\n",
    "w = w.to(device)\n",
    "\n",
    "function = (torch.log(torch.log(w + 7))).prod() # put our code here\n",
    "function.backward()\n",
    "\n",
    "#print(w.grad) # Код для самопроверки"
   ]
  },
  {
   "cell_type": "code",
   "execution_count": 12,
   "metadata": {},
   "outputs": [],
   "source": [
    "w = torch.tensor([[5., 10.], [1., 2.]], requires_grad=True)\n",
    "alpha = 0.001\n",
    "\n",
    "for _ in range(500):\n",
    "    # critical: calculate the function inside the loop\n",
    "    function = (w + 7).log().log().prod()\n",
    "    function.backward()\n",
    "    w.data -= 0.001 * w.grad # put code here\n",
    "    w.grad.zero_()\n",
    "    # something is missing\n",
    "\n",
    "#print(w) # Код для самопроверки, не забудьте закомментировать перед"
   ]
  },
  {
   "cell_type": "code",
   "execution_count": 13,
   "metadata": {},
   "outputs": [],
   "source": [
    "w = torch.tensor([[5., 10.], [1., 2.]], requires_grad=True)\n",
    "alpha = 0.001\n",
    "optimizer = torch.optim.SGD([w], lr=0.001) # put our code here. Do not forget [] inside SGD constructor !!!!\n",
    "\n",
    "for _ in range(500):\n",
    "    # it's critical to calculate function inside the loop:\n",
    "    function = (w + 7).log().log().prod()\n",
    "    function.backward()\n",
    "    optimizer.step()\n",
    "    optimizer.zero_grad()\n",
    "    # something is missing here!\n",
    "\n",
    "#print(w) # Код для самопроверки"
   ]
  },
  {
   "cell_type": "code",
   "execution_count": 14,
   "metadata": {},
   "outputs": [],
   "source": [
    "def show_contours(objective,\n",
    "                  x_lims=[-10.0, 10.0], \n",
    "                  y_lims=[-10.0, 10.0],\n",
    "                  x_ticks=100,\n",
    "                  y_ticks=100):\n",
    "    x_step = (x_lims[1] - x_lims[0]) / x_ticks\n",
    "    y_step = (y_lims[1] - y_lims[0]) / y_ticks\n",
    "    X, Y = np.mgrid[x_lims[0]:x_lims[1]:x_step, y_lims[0]:y_lims[1]:y_step]\n",
    "    res = []\n",
    "    for x_index in range(X.shape[0]):\n",
    "        res.append([])\n",
    "        for y_index in range(X.shape[1]):\n",
    "            x_val = X[x_index, y_index]\n",
    "            y_val = Y[x_index, y_index]\n",
    "            res[-1].append(objective(np.array([[x_val, y_val]]).T))\n",
    "    res = np.array(res)\n",
    "    plt.figure(figsize=(7,7))\n",
    "    plt.contour(X, Y, res, 100)\n",
    "    plt.xlabel('$x_1$')\n",
    "    plt.ylabel('$x_2$')"
   ]
  },
  {
   "cell_type": "code",
   "execution_count": 15,
   "metadata": {},
   "outputs": [],
   "source": [
    "x = torch.tensor(\n",
    "    [8., 8.], requires_grad=True)\n",
    "var_history = []\n",
    "fn_history = []\n",
    "\n",
    "def function_parabola(variable):\n",
    "    return 10 * (variable ** 2).sum()\n",
    "\n",
    "def make_gradient_step(function, variable):\n",
    "    function_result = function(variable)\n",
    "    function_result.backward()\n",
    "    variable.data -= 0.001 * variable.grad\n",
    "    variable.grad.zero_()\n",
    "\n",
    "for i in range(500):\n",
    "    var_history.append(x.data.cpu().numpy().copy())\n",
    "    fn_history.append(function_parabola(x).data.cpu().numpy().copy())\n",
    "    make_gradient_step(function_parabola, x)"
   ]
  },
  {
   "cell_type": "code",
   "execution_count": 16,
   "metadata": {},
   "outputs": [],
   "source": [
    "x = torch.tensor(\n",
    "    [8., 8.], requires_grad=True)\n",
    "var_history = []\n",
    "fn_history = []\n",
    "\n",
    "optimizer = torch.optim.SGD([x], lr=0.001)\n",
    "\n",
    "def function_parabola(variable):\n",
    "    return 10 * (variable ** 2).sum()\n",
    "\n",
    "def make_gradient_step(function, variable):\n",
    "    function_result = function(variable)\n",
    "    function_result.backward()\n",
    "    optimizer.step()\n",
    "    optimizer.zero_grad()\n",
    "    \n",
    "for i in range(500):\n",
    "    var_history.append(x.data.numpy().copy())\n",
    "    fn_history.append(function_parabola(x).data.cpu().numpy().copy())\n",
    "    make_gradient_step(function_parabola, x)"
   ]
  },
  {
   "cell_type": "code",
   "execution_count": 17,
   "metadata": {},
   "outputs": [
    {
     "ename": "",
     "evalue": "",
     "output_type": "error",
     "traceback": [
      "\u001b[1;31mCanceled future for execute_request message before replies were done"
     ]
    },
    {
     "ename": "",
     "evalue": "",
     "output_type": "error",
     "traceback": [
      "\u001b[1;31mThe Kernel crashed while executing code in the the current cell or a previous cell. Please review the code in the cell(s) to identify a possible cause of the failure. Click <a href='https://aka.ms/vscodeJupyterKernelCrash'>here</a> for more info. View Jupyter <a href='command:jupyter.viewOutput'>log</a> for further details."
     ]
    }
   ],
   "source": [
    "show_contours(function_parabola)\n",
    "plt.scatter(np.array(var_history)[:,0], np.array(var_history)[:,1], s=10, c='r');"
   ]
  },
  {
   "cell_type": "code",
   "execution_count": null,
   "metadata": {},
   "outputs": [
    {
     "ename": "NameError",
     "evalue": "name 'plt' is not defined",
     "output_type": "error",
     "traceback": [
      "\u001b[1;31m---------------------------------------------------------------------------\u001b[0m",
      "\u001b[1;31mNameError\u001b[0m                                 Traceback (most recent call last)",
      "\u001b[1;32mUntitled-1.ipynb Cell 12\u001b[0m in \u001b[0;36m<cell line: 1>\u001b[1;34m()\u001b[0m\n\u001b[1;32m----> <a href='vscode-notebook-cell:Untitled-1.ipynb?jupyter-notebook#X15sdW50aXRsZWQ%3D?line=0'>1</a>\u001b[0m plt\u001b[39m.\u001b[39mfigure(figsize\u001b[39m=\u001b[39m(\u001b[39m7\u001b[39m,\u001b[39m7\u001b[39m))\n\u001b[0;32m      <a href='vscode-notebook-cell:Untitled-1.ipynb?jupyter-notebook#X15sdW50aXRsZWQ%3D?line=1'>2</a>\u001b[0m plt\u001b[39m.\u001b[39mplot(fn_history);\n\u001b[0;32m      <a href='vscode-notebook-cell:Untitled-1.ipynb?jupyter-notebook#X15sdW50aXRsZWQ%3D?line=2'>3</a>\u001b[0m plt\u001b[39m.\u001b[39mxlabel(\u001b[39m'\u001b[39m\u001b[39mstep\u001b[39m\u001b[39m'\u001b[39m)\n",
      "\u001b[1;31mNameError\u001b[0m: name 'plt' is not defined"
     ]
    }
   ],
   "source": [
    "plt.figure(figsize=(7,7))\n",
    "plt.plot(fn_history);\n",
    "plt.xlabel('step')\n",
    "plt.ylabel('function value');"
   ]
  }
 ],
 "metadata": {
  "kernelspec": {
   "display_name": "Python 3.9.12 ('base')",
   "language": "python",
   "name": "python3"
  },
  "language_info": {
   "codemirror_mode": {
    "name": "ipython",
    "version": 3
   },
   "file_extension": ".py",
   "mimetype": "text/x-python",
   "name": "python",
   "nbconvert_exporter": "python",
   "pygments_lexer": "ipython3",
   "version": "3.9.12"
  },
  "orig_nbformat": 4,
  "vscode": {
   "interpreter": {
    "hash": "997e75739200b89f90f4bc2bd1ad43fa2915a573ac0c89293d8462702d7572cd"
   }
  }
 },
 "nbformat": 4,
 "nbformat_minor": 2
}
